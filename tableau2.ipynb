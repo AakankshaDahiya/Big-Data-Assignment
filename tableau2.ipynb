{
  "nbformat": 4,
  "nbformat_minor": 0,
  "metadata": {
    "colab": {
      "provenance": [],
      "authorship_tag": "ABX9TyPTUHsaXo695EbyZG+jbf29",
      "include_colab_link": true
    },
    "kernelspec": {
      "name": "python3",
      "display_name": "Python 3"
    },
    "language_info": {
      "name": "python"
    }
  },
  "cells": [
    {
      "cell_type": "markdown",
      "metadata": {
        "id": "view-in-github",
        "colab_type": "text"
      },
      "source": [
        "<a href=\"https://colab.research.google.com/github/AakankshaDahiya/Big-Data-Assignment/blob/main/tableau2.ipynb\" target=\"_parent\"><img src=\"https://colab.research.google.com/assets/colab-badge.svg\" alt=\"Open In Colab\"/></a>"
      ]
    },
    {
      "cell_type": "code",
      "source": [
        "import pandas as pd\n",
        "\n",
        "# Load the dataset\n",
        "df = pd.read_csv(\"/content/Web Analytic_Dataset.csv\")\n",
        "\n",
        "# 1. Clean numeric columns (remove commas and convert to integers/floats)\n",
        "numeric_columns = ['Users', 'New Users', 'Sessions', 'Pageviews',\n",
        "                   'Transactions', 'Revenue', 'Quantity Sold']\n",
        "\n",
        "for col in numeric_columns:\n",
        "    df[col] = df[col].astype(str).str.replace(',', '', regex=False).astype(float)\n",
        "\n",
        "# 2. Clean 'Bounce Rate' and 'Conversion Rate (%)' (remove % and convert to float)\n",
        "df['Bounce Rate'] = df['Bounce Rate'].str.replace('%', '', regex=False).astype(float) / 100\n",
        "\n",
        "\n",
        "# 3. Convert 'Avg. Session Duration' from HH:MM:SS to total seconds\n",
        "def time_to_seconds(t):\n",
        "    try:\n",
        "        parts = list(map(int, t.split(':')))\n",
        "        if len(parts) == 3:\n",
        "            return parts[0] * 3600 + parts[1] * 60 + parts[2]\n",
        "        elif len(parts) == 2:\n",
        "            return parts[0] * 60 + parts[1]\n",
        "        else:\n",
        "            return 0\n",
        "    except:\n",
        "        return 0\n",
        "\n",
        "df['Avg. Session Duration (sec)'] = df['Avg. Session Duration'].astype(str).apply(time_to_seconds)\n",
        "#NEW STEP: Drop all rows with any null values\n",
        "df.dropna(inplace=True)\n",
        "\n",
        "\n",
        "# 4. Optional: Rename columns for consistency\n",
        "df.rename(columns={\n",
        "    'Source / Medium': 'Traffic Source',\n",
        "    'Month of the year': 'Month',\n",
        "    'Conversion Rate (%)': 'Conversion Rate',\n",
        "    'Avg. Session Duration': 'Avg. Session Duration (raw)'\n",
        "}, inplace=True)\n",
        "\n",
        "# 5. Save cleaned data\n",
        "df.to_csv(\"Cleaned_Web_Analytic_Dataset.csv\", index=False)\n",
        "\n",
        "# 6. Print key summary metrics\n",
        "print(\"Sample cleaned data:\\n\", df.head())\n",
        "print(\"\\nBounce Rate (average): {:.2%}\".format(df['Bounce Rate'].mean()))\n",
        "print(\"Conversion Rate (average): {:.2%}\".format(df['Conversion Rate'].mean()))\n"
      ],
      "metadata": {
        "colab": {
          "base_uri": "https://localhost:8080/",
          "height": 775
        },
        "id": "phvJoiOcT1vV",
        "outputId": "ff195f67-f470-46da-95b1-7d75c751b85c"
      },
      "execution_count": 3,
      "outputs": [
        {
          "output_type": "stream",
          "name": "stdout",
          "text": [
            "Sample cleaned data:\n",
            "   Traffic Source  Year  Month     Users  New Users  Sessions  Bounce Rate  \\\n",
            "0              A  2019     11  126870.0   104020.0  194667.0       0.7159   \n",
            "1              A  2013      5  120625.0    98574.0  194114.0       0.6456   \n",
            "2              A  2019     10  123361.0   104308.0  181175.0       0.4191   \n",
            "3              A  2011      9  106551.0    88428.0  170329.0       0.7592   \n",
            "4              A  2010      6  102123.0    82461.0  163446.0       0.6710   \n",
            "\n",
            "   Pageviews Avg. Session Duration (raw) Conversion Rate  Transactions  \\\n",
            "0   455159.0                    22:01:11             0.2         394.0   \n",
            "1   559509.0                     0:01:32            0.69        1347.0   \n",
            "2   368907.0                     1:01:05            0.26         477.0   \n",
            "3   368803.0                    16:01:01            0.18         311.0   \n",
            "4   425410.0                     5:01:20             0.7        1138.0   \n",
            "\n",
            "    Revenue  Quantity Sold  Avg. Session Duration (sec)  \n",
            "0   83244.0          482.0                        79271  \n",
            "1  203552.0         2402.0                           92  \n",
            "2   94282.0          599.0                         3665  \n",
            "3   54971.0          415.0                        57661  \n",
            "4  167113.0         1987.0                        18080  \n",
            "\n",
            "Bounce Rate (average): 49.31%\n"
          ]
        },
        {
          "output_type": "error",
          "ename": "TypeError",
          "evalue": "Could not convert string '0.20.690.260.180.70.340.450.580.520.480.210.60.470.250.2200.350.330.380.520.250.530.310.480.160.70.380.40.240.150.510.340.220.490.60.260.560.60.620.450.730.110.070.340.240.08<0.010.110.230.840.250.690.550.310.450.390.430.390.550.770.570.610.4900.230.390.421.31.860.10.050.680.260.090.090.110.200.140.120.1700.0300.140.580.240.120.440.130.340.251.320.110.260.420.420.231.750.1200.4800.231.292.7636.180.390.2300.120.860.610.6338.610.270.620.690.280.141.131.8817.11031.7603.7324.590.180.381.150.770.970.2026.6103.830.6817.5740.050.2331.38026.7200.530.810.540.140.290.7526.60.460.312.480.785.810.6526.660.170.6700.530.350.710.360.720.1942.0800.21.790000.4222.170.440.680.450.2300.240.9622.6910.250.250.524.832.2200024.387.8201.670033.224.660.3726.121.8720.227.4500.850.9031.021.41.40002.9606.740.523.66007.5300.56001.1801.9200.6708.90.710018.9802.966.020.76000.780.790' to numeric",
          "traceback": [
            "\u001b[0;31m---------------------------------------------------------------------------\u001b[0m",
            "\u001b[0;31mTypeError\u001b[0m                                 Traceback (most recent call last)",
            "\u001b[0;32m/tmp/ipython-input-3-316973283.py\u001b[0m in \u001b[0;36m<cell line: 0>\u001b[0;34m()\u001b[0m\n\u001b[1;32m     47\u001b[0m \u001b[0mprint\u001b[0m\u001b[0;34m(\u001b[0m\u001b[0;34m\"Sample cleaned data:\\n\"\u001b[0m\u001b[0;34m,\u001b[0m \u001b[0mdf\u001b[0m\u001b[0;34m.\u001b[0m\u001b[0mhead\u001b[0m\u001b[0;34m(\u001b[0m\u001b[0;34m)\u001b[0m\u001b[0;34m)\u001b[0m\u001b[0;34m\u001b[0m\u001b[0;34m\u001b[0m\u001b[0m\n\u001b[1;32m     48\u001b[0m \u001b[0mprint\u001b[0m\u001b[0;34m(\u001b[0m\u001b[0;34m\"\\nBounce Rate (average): {:.2%}\"\u001b[0m\u001b[0;34m.\u001b[0m\u001b[0mformat\u001b[0m\u001b[0;34m(\u001b[0m\u001b[0mdf\u001b[0m\u001b[0;34m[\u001b[0m\u001b[0;34m'Bounce Rate'\u001b[0m\u001b[0;34m]\u001b[0m\u001b[0;34m.\u001b[0m\u001b[0mmean\u001b[0m\u001b[0;34m(\u001b[0m\u001b[0;34m)\u001b[0m\u001b[0;34m)\u001b[0m\u001b[0;34m)\u001b[0m\u001b[0;34m\u001b[0m\u001b[0;34m\u001b[0m\u001b[0m\n\u001b[0;32m---> 49\u001b[0;31m \u001b[0mprint\u001b[0m\u001b[0;34m(\u001b[0m\u001b[0;34m\"Conversion Rate (average): {:.2%}\"\u001b[0m\u001b[0;34m.\u001b[0m\u001b[0mformat\u001b[0m\u001b[0;34m(\u001b[0m\u001b[0mdf\u001b[0m\u001b[0;34m[\u001b[0m\u001b[0;34m'Conversion Rate'\u001b[0m\u001b[0;34m]\u001b[0m\u001b[0;34m.\u001b[0m\u001b[0mmean\u001b[0m\u001b[0;34m(\u001b[0m\u001b[0;34m)\u001b[0m\u001b[0;34m)\u001b[0m\u001b[0;34m)\u001b[0m\u001b[0;34m\u001b[0m\u001b[0;34m\u001b[0m\u001b[0m\n\u001b[0m",
            "\u001b[0;32m/usr/local/lib/python3.11/dist-packages/pandas/core/series.py\u001b[0m in \u001b[0;36mmean\u001b[0;34m(self, axis, skipna, numeric_only, **kwargs)\u001b[0m\n\u001b[1;32m   6547\u001b[0m         \u001b[0;34m**\u001b[0m\u001b[0mkwargs\u001b[0m\u001b[0;34m,\u001b[0m\u001b[0;34m\u001b[0m\u001b[0;34m\u001b[0m\u001b[0m\n\u001b[1;32m   6548\u001b[0m     ):\n\u001b[0;32m-> 6549\u001b[0;31m         \u001b[0;32mreturn\u001b[0m \u001b[0mNDFrame\u001b[0m\u001b[0;34m.\u001b[0m\u001b[0mmean\u001b[0m\u001b[0;34m(\u001b[0m\u001b[0mself\u001b[0m\u001b[0;34m,\u001b[0m \u001b[0maxis\u001b[0m\u001b[0;34m,\u001b[0m \u001b[0mskipna\u001b[0m\u001b[0;34m,\u001b[0m \u001b[0mnumeric_only\u001b[0m\u001b[0;34m,\u001b[0m \u001b[0;34m**\u001b[0m\u001b[0mkwargs\u001b[0m\u001b[0;34m)\u001b[0m\u001b[0;34m\u001b[0m\u001b[0;34m\u001b[0m\u001b[0m\n\u001b[0m\u001b[1;32m   6550\u001b[0m \u001b[0;34m\u001b[0m\u001b[0m\n\u001b[1;32m   6551\u001b[0m     \u001b[0;34m@\u001b[0m\u001b[0mdoc\u001b[0m\u001b[0;34m(\u001b[0m\u001b[0mmake_doc\u001b[0m\u001b[0;34m(\u001b[0m\u001b[0;34m\"median\"\u001b[0m\u001b[0;34m,\u001b[0m \u001b[0mndim\u001b[0m\u001b[0;34m=\u001b[0m\u001b[0;36m1\u001b[0m\u001b[0;34m)\u001b[0m\u001b[0;34m)\u001b[0m\u001b[0;34m\u001b[0m\u001b[0;34m\u001b[0m\u001b[0m\n",
            "\u001b[0;32m/usr/local/lib/python3.11/dist-packages/pandas/core/generic.py\u001b[0m in \u001b[0;36mmean\u001b[0;34m(self, axis, skipna, numeric_only, **kwargs)\u001b[0m\n\u001b[1;32m  12418\u001b[0m         \u001b[0;34m**\u001b[0m\u001b[0mkwargs\u001b[0m\u001b[0;34m,\u001b[0m\u001b[0;34m\u001b[0m\u001b[0;34m\u001b[0m\u001b[0m\n\u001b[1;32m  12419\u001b[0m     ) -> Series | float:\n\u001b[0;32m> 12420\u001b[0;31m         return self._stat_function(\n\u001b[0m\u001b[1;32m  12421\u001b[0m             \u001b[0;34m\"mean\"\u001b[0m\u001b[0;34m,\u001b[0m \u001b[0mnanops\u001b[0m\u001b[0;34m.\u001b[0m\u001b[0mnanmean\u001b[0m\u001b[0;34m,\u001b[0m \u001b[0maxis\u001b[0m\u001b[0;34m,\u001b[0m \u001b[0mskipna\u001b[0m\u001b[0;34m,\u001b[0m \u001b[0mnumeric_only\u001b[0m\u001b[0;34m,\u001b[0m \u001b[0;34m**\u001b[0m\u001b[0mkwargs\u001b[0m\u001b[0;34m\u001b[0m\u001b[0;34m\u001b[0m\u001b[0m\n\u001b[1;32m  12422\u001b[0m         )\n",
            "\u001b[0;32m/usr/local/lib/python3.11/dist-packages/pandas/core/generic.py\u001b[0m in \u001b[0;36m_stat_function\u001b[0;34m(self, name, func, axis, skipna, numeric_only, **kwargs)\u001b[0m\n\u001b[1;32m  12375\u001b[0m         \u001b[0mvalidate_bool_kwarg\u001b[0m\u001b[0;34m(\u001b[0m\u001b[0mskipna\u001b[0m\u001b[0;34m,\u001b[0m \u001b[0;34m\"skipna\"\u001b[0m\u001b[0;34m,\u001b[0m \u001b[0mnone_allowed\u001b[0m\u001b[0;34m=\u001b[0m\u001b[0;32mFalse\u001b[0m\u001b[0;34m)\u001b[0m\u001b[0;34m\u001b[0m\u001b[0;34m\u001b[0m\u001b[0m\n\u001b[1;32m  12376\u001b[0m \u001b[0;34m\u001b[0m\u001b[0m\n\u001b[0;32m> 12377\u001b[0;31m         return self._reduce(\n\u001b[0m\u001b[1;32m  12378\u001b[0m             \u001b[0mfunc\u001b[0m\u001b[0;34m,\u001b[0m \u001b[0mname\u001b[0m\u001b[0;34m=\u001b[0m\u001b[0mname\u001b[0m\u001b[0;34m,\u001b[0m \u001b[0maxis\u001b[0m\u001b[0;34m=\u001b[0m\u001b[0maxis\u001b[0m\u001b[0;34m,\u001b[0m \u001b[0mskipna\u001b[0m\u001b[0;34m=\u001b[0m\u001b[0mskipna\u001b[0m\u001b[0;34m,\u001b[0m \u001b[0mnumeric_only\u001b[0m\u001b[0;34m=\u001b[0m\u001b[0mnumeric_only\u001b[0m\u001b[0;34m\u001b[0m\u001b[0;34m\u001b[0m\u001b[0m\n\u001b[1;32m  12379\u001b[0m         )\n",
            "\u001b[0;32m/usr/local/lib/python3.11/dist-packages/pandas/core/series.py\u001b[0m in \u001b[0;36m_reduce\u001b[0;34m(self, op, name, axis, skipna, numeric_only, filter_type, **kwds)\u001b[0m\n\u001b[1;32m   6455\u001b[0m                     \u001b[0;34m\"with non-numeric dtypes.\"\u001b[0m\u001b[0;34m\u001b[0m\u001b[0;34m\u001b[0m\u001b[0m\n\u001b[1;32m   6456\u001b[0m                 )\n\u001b[0;32m-> 6457\u001b[0;31m             \u001b[0;32mreturn\u001b[0m \u001b[0mop\u001b[0m\u001b[0;34m(\u001b[0m\u001b[0mdelegate\u001b[0m\u001b[0;34m,\u001b[0m \u001b[0mskipna\u001b[0m\u001b[0;34m=\u001b[0m\u001b[0mskipna\u001b[0m\u001b[0;34m,\u001b[0m \u001b[0;34m**\u001b[0m\u001b[0mkwds\u001b[0m\u001b[0;34m)\u001b[0m\u001b[0;34m\u001b[0m\u001b[0;34m\u001b[0m\u001b[0m\n\u001b[0m\u001b[1;32m   6458\u001b[0m \u001b[0;34m\u001b[0m\u001b[0m\n\u001b[1;32m   6459\u001b[0m     \u001b[0;34m@\u001b[0m\u001b[0mAppender\u001b[0m\u001b[0;34m(\u001b[0m\u001b[0mmake_doc\u001b[0m\u001b[0;34m(\u001b[0m\u001b[0;34m\"any\"\u001b[0m\u001b[0;34m,\u001b[0m \u001b[0mndim\u001b[0m\u001b[0;34m=\u001b[0m\u001b[0;36m1\u001b[0m\u001b[0;34m)\u001b[0m\u001b[0;34m)\u001b[0m\u001b[0;34m\u001b[0m\u001b[0;34m\u001b[0m\u001b[0m\n",
            "\u001b[0;32m/usr/local/lib/python3.11/dist-packages/pandas/core/nanops.py\u001b[0m in \u001b[0;36mf\u001b[0;34m(values, axis, skipna, **kwds)\u001b[0m\n\u001b[1;32m    145\u001b[0m                     \u001b[0mresult\u001b[0m \u001b[0;34m=\u001b[0m \u001b[0malt\u001b[0m\u001b[0;34m(\u001b[0m\u001b[0mvalues\u001b[0m\u001b[0;34m,\u001b[0m \u001b[0maxis\u001b[0m\u001b[0;34m=\u001b[0m\u001b[0maxis\u001b[0m\u001b[0;34m,\u001b[0m \u001b[0mskipna\u001b[0m\u001b[0;34m=\u001b[0m\u001b[0mskipna\u001b[0m\u001b[0;34m,\u001b[0m \u001b[0;34m**\u001b[0m\u001b[0mkwds\u001b[0m\u001b[0;34m)\u001b[0m\u001b[0;34m\u001b[0m\u001b[0;34m\u001b[0m\u001b[0m\n\u001b[1;32m    146\u001b[0m             \u001b[0;32melse\u001b[0m\u001b[0;34m:\u001b[0m\u001b[0;34m\u001b[0m\u001b[0;34m\u001b[0m\u001b[0m\n\u001b[0;32m--> 147\u001b[0;31m                 \u001b[0mresult\u001b[0m \u001b[0;34m=\u001b[0m \u001b[0malt\u001b[0m\u001b[0;34m(\u001b[0m\u001b[0mvalues\u001b[0m\u001b[0;34m,\u001b[0m \u001b[0maxis\u001b[0m\u001b[0;34m=\u001b[0m\u001b[0maxis\u001b[0m\u001b[0;34m,\u001b[0m \u001b[0mskipna\u001b[0m\u001b[0;34m=\u001b[0m\u001b[0mskipna\u001b[0m\u001b[0;34m,\u001b[0m \u001b[0;34m**\u001b[0m\u001b[0mkwds\u001b[0m\u001b[0;34m)\u001b[0m\u001b[0;34m\u001b[0m\u001b[0;34m\u001b[0m\u001b[0m\n\u001b[0m\u001b[1;32m    148\u001b[0m \u001b[0;34m\u001b[0m\u001b[0m\n\u001b[1;32m    149\u001b[0m             \u001b[0;32mreturn\u001b[0m \u001b[0mresult\u001b[0m\u001b[0;34m\u001b[0m\u001b[0;34m\u001b[0m\u001b[0m\n",
            "\u001b[0;32m/usr/local/lib/python3.11/dist-packages/pandas/core/nanops.py\u001b[0m in \u001b[0;36mnew_func\u001b[0;34m(values, axis, skipna, mask, **kwargs)\u001b[0m\n\u001b[1;32m    402\u001b[0m             \u001b[0mmask\u001b[0m \u001b[0;34m=\u001b[0m \u001b[0misna\u001b[0m\u001b[0;34m(\u001b[0m\u001b[0mvalues\u001b[0m\u001b[0;34m)\u001b[0m\u001b[0;34m\u001b[0m\u001b[0;34m\u001b[0m\u001b[0m\n\u001b[1;32m    403\u001b[0m \u001b[0;34m\u001b[0m\u001b[0m\n\u001b[0;32m--> 404\u001b[0;31m         \u001b[0mresult\u001b[0m \u001b[0;34m=\u001b[0m \u001b[0mfunc\u001b[0m\u001b[0;34m(\u001b[0m\u001b[0mvalues\u001b[0m\u001b[0;34m,\u001b[0m \u001b[0maxis\u001b[0m\u001b[0;34m=\u001b[0m\u001b[0maxis\u001b[0m\u001b[0;34m,\u001b[0m \u001b[0mskipna\u001b[0m\u001b[0;34m=\u001b[0m\u001b[0mskipna\u001b[0m\u001b[0;34m,\u001b[0m \u001b[0mmask\u001b[0m\u001b[0;34m=\u001b[0m\u001b[0mmask\u001b[0m\u001b[0;34m,\u001b[0m \u001b[0;34m**\u001b[0m\u001b[0mkwargs\u001b[0m\u001b[0;34m)\u001b[0m\u001b[0;34m\u001b[0m\u001b[0;34m\u001b[0m\u001b[0m\n\u001b[0m\u001b[1;32m    405\u001b[0m \u001b[0;34m\u001b[0m\u001b[0m\n\u001b[1;32m    406\u001b[0m         \u001b[0;32mif\u001b[0m \u001b[0mdatetimelike\u001b[0m\u001b[0;34m:\u001b[0m\u001b[0;34m\u001b[0m\u001b[0;34m\u001b[0m\u001b[0m\n",
            "\u001b[0;32m/usr/local/lib/python3.11/dist-packages/pandas/core/nanops.py\u001b[0m in \u001b[0;36mnanmean\u001b[0;34m(values, axis, skipna, mask)\u001b[0m\n\u001b[1;32m    718\u001b[0m     \u001b[0mcount\u001b[0m \u001b[0;34m=\u001b[0m \u001b[0m_get_counts\u001b[0m\u001b[0;34m(\u001b[0m\u001b[0mvalues\u001b[0m\u001b[0;34m.\u001b[0m\u001b[0mshape\u001b[0m\u001b[0;34m,\u001b[0m \u001b[0mmask\u001b[0m\u001b[0;34m,\u001b[0m \u001b[0maxis\u001b[0m\u001b[0;34m,\u001b[0m \u001b[0mdtype\u001b[0m\u001b[0;34m=\u001b[0m\u001b[0mdtype_count\u001b[0m\u001b[0;34m)\u001b[0m\u001b[0;34m\u001b[0m\u001b[0;34m\u001b[0m\u001b[0m\n\u001b[1;32m    719\u001b[0m     \u001b[0mthe_sum\u001b[0m \u001b[0;34m=\u001b[0m \u001b[0mvalues\u001b[0m\u001b[0;34m.\u001b[0m\u001b[0msum\u001b[0m\u001b[0;34m(\u001b[0m\u001b[0maxis\u001b[0m\u001b[0;34m,\u001b[0m \u001b[0mdtype\u001b[0m\u001b[0;34m=\u001b[0m\u001b[0mdtype_sum\u001b[0m\u001b[0;34m)\u001b[0m\u001b[0;34m\u001b[0m\u001b[0;34m\u001b[0m\u001b[0m\n\u001b[0;32m--> 720\u001b[0;31m     \u001b[0mthe_sum\u001b[0m \u001b[0;34m=\u001b[0m \u001b[0m_ensure_numeric\u001b[0m\u001b[0;34m(\u001b[0m\u001b[0mthe_sum\u001b[0m\u001b[0;34m)\u001b[0m\u001b[0;34m\u001b[0m\u001b[0;34m\u001b[0m\u001b[0m\n\u001b[0m\u001b[1;32m    721\u001b[0m \u001b[0;34m\u001b[0m\u001b[0m\n\u001b[1;32m    722\u001b[0m     \u001b[0;32mif\u001b[0m \u001b[0maxis\u001b[0m \u001b[0;32mis\u001b[0m \u001b[0;32mnot\u001b[0m \u001b[0;32mNone\u001b[0m \u001b[0;32mand\u001b[0m \u001b[0mgetattr\u001b[0m\u001b[0;34m(\u001b[0m\u001b[0mthe_sum\u001b[0m\u001b[0;34m,\u001b[0m \u001b[0;34m\"ndim\"\u001b[0m\u001b[0;34m,\u001b[0m \u001b[0;32mFalse\u001b[0m\u001b[0;34m)\u001b[0m\u001b[0;34m:\u001b[0m\u001b[0;34m\u001b[0m\u001b[0;34m\u001b[0m\u001b[0m\n",
            "\u001b[0;32m/usr/local/lib/python3.11/dist-packages/pandas/core/nanops.py\u001b[0m in \u001b[0;36m_ensure_numeric\u001b[0;34m(x)\u001b[0m\n\u001b[1;32m   1699\u001b[0m         \u001b[0;32mif\u001b[0m \u001b[0misinstance\u001b[0m\u001b[0;34m(\u001b[0m\u001b[0mx\u001b[0m\u001b[0;34m,\u001b[0m \u001b[0mstr\u001b[0m\u001b[0;34m)\u001b[0m\u001b[0;34m:\u001b[0m\u001b[0;34m\u001b[0m\u001b[0;34m\u001b[0m\u001b[0m\n\u001b[1;32m   1700\u001b[0m             \u001b[0;31m# GH#44008, GH#36703 avoid casting e.g. strings to numeric\u001b[0m\u001b[0;34m\u001b[0m\u001b[0;34m\u001b[0m\u001b[0m\n\u001b[0;32m-> 1701\u001b[0;31m             \u001b[0;32mraise\u001b[0m \u001b[0mTypeError\u001b[0m\u001b[0;34m(\u001b[0m\u001b[0;34mf\"Could not convert string '{x}' to numeric\"\u001b[0m\u001b[0;34m)\u001b[0m\u001b[0;34m\u001b[0m\u001b[0;34m\u001b[0m\u001b[0m\n\u001b[0m\u001b[1;32m   1702\u001b[0m         \u001b[0;32mtry\u001b[0m\u001b[0;34m:\u001b[0m\u001b[0;34m\u001b[0m\u001b[0;34m\u001b[0m\u001b[0m\n\u001b[1;32m   1703\u001b[0m             \u001b[0mx\u001b[0m \u001b[0;34m=\u001b[0m \u001b[0mfloat\u001b[0m\u001b[0;34m(\u001b[0m\u001b[0mx\u001b[0m\u001b[0;34m)\u001b[0m\u001b[0;34m\u001b[0m\u001b[0;34m\u001b[0m\u001b[0m\n",
            "\u001b[0;31mTypeError\u001b[0m: Could not convert string '0.20.690.260.180.70.340.450.580.520.480.210.60.470.250.2200.350.330.380.520.250.530.310.480.160.70.380.40.240.150.510.340.220.490.60.260.560.60.620.450.730.110.070.340.240.08<0.010.110.230.840.250.690.550.310.450.390.430.390.550.770.570.610.4900.230.390.421.31.860.10.050.680.260.090.090.110.200.140.120.1700.0300.140.580.240.120.440.130.340.251.320.110.260.420.420.231.750.1200.4800.231.292.7636.180.390.2300.120.860.610.6338.610.270.620.690.280.141.131.8817.11031.7603.7324.590.180.381.150.770.970.2026.6103.830.6817.5740.050.2331.38026.7200.530.810.540.140.290.7526.60.460.312.480.785.810.6526.660.170.6700.530.350.710.360.720.1942.0800.21.790000.4222.170.440.680.450.2300.240.9622.6910.250.250.524.832.2200024.387.8201.670033.224.660.3726.121.8720.227.4500.850.9031.021.41.40002.9606.740.523.66007.5300.56001.1801.9200.6708.90.710018.9802.966.020.76000.780.790' to numeric"
          ]
        }
      ]
    },
    {
      "cell_type": "code",
      "source": [
        "import pandas as pd\n",
        "# Load the dataset\n",
        "df = pd.read_csv(\"/content/Web Analytic_Dataset.csv\")\n",
        "\n",
        "# 1. Clean numeric columns (remove commas and convert to integers/floats)\n",
        "numeric_columns = ['Users', 'New Users', 'Sessions', 'Pageviews',\n",
        "                   'Transactions', 'Revenue', 'Quantity Sold']\n",
        "for col in numeric_columns:\n",
        "    df[col] = df[col].astype(str).str.replace(',', '', regex=False).astype(float)\n",
        "\n",
        "##NEW STEP: Drop all rows with any null values\n",
        "df.dropna(inplace=True)\n",
        "\n",
        "# 2. Clean 'Bounce Rate' and 'Conversion Rate (%)' (remove % and convert to float)\n",
        "df['Bounce Rate'] = df['Bounce Rate'].str.replace('%', '', regex=False).astype(float) / 100\n",
        "df['Conversion Rate (%)'] = pd.to_numeric(df['Conversion Rate (%)'], errors='coerce')\n",
        "# 3. Convert 'Avg. Session Duration' from HH:MM:SS to total seconds\n",
        "def time_to_seconds(t):\n",
        "    try:\n",
        "        parts = list(map(int, t.split(':')))\n",
        "        if len(parts) == 3:\n",
        "            return parts[0] * 3600 + parts[1] * 60 + parts[2]\n",
        "        elif len(parts) == 2:\n",
        "            return parts[0] * 60 + parts[1]\n",
        "        else:\n",
        "            return 0\n",
        "    except:\n",
        "        return 0\n",
        "df['Avg. Session Duration (sec)'] = df['Avg. Session Duration'].astype(str).apply(time_to_seconds)\n",
        "# 4. Optional: Rename columns for consistency\n",
        "df.rename(columns={\n",
        "    'Source / Medium': 'Traffic Source',\n",
        "    'Month of the year': 'Month',\n",
        "    'Conversion Rate (%)': 'Conversion Rate',\n",
        "    'Avg. Session Duration': 'Avg. Session Duration (raw)'\n",
        "}, inplace=True)\n",
        "\n",
        "# 5. Save cleaned data\n",
        "df.to_csv(\"Cleaned_Web_Analytic_Dataset.csv\", index=False)\n",
        "\n",
        "# 6. Print key summary metrics\n",
        "print(\"Sample cleaned data:\\n\", df.head())\n",
        "print(\"\\nBounce Rate (average): {:.2%}\".format(df['Bounce Rate'].mean()))\n",
        "print(\"Conversion Rate (average): {:.2%}\".format(df['Conversion Rate'].mean()))"
      ],
      "metadata": {
        "colab": {
          "base_uri": "https://localhost:8080/"
        },
        "id": "zigDKOCyoFaN",
        "outputId": "3e1f795e-d877-40c9-8fe7-af8ad8888d0b"
      },
      "execution_count": 5,
      "outputs": [
        {
          "output_type": "stream",
          "name": "stdout",
          "text": [
            "Sample cleaned data:\n",
            "   Traffic Source  Year  Month     Users  New Users  Sessions  Bounce Rate  \\\n",
            "0              A  2019     11  126870.0   104020.0  194667.0       0.7159   \n",
            "1              A  2013      5  120625.0    98574.0  194114.0       0.6456   \n",
            "2              A  2019     10  123361.0   104308.0  181175.0       0.4191   \n",
            "3              A  2011      9  106551.0    88428.0  170329.0       0.7592   \n",
            "4              A  2010      6  102123.0    82461.0  163446.0       0.6710   \n",
            "\n",
            "   Pageviews Avg. Session Duration (raw)  Conversion Rate  Transactions  \\\n",
            "0   455159.0                    22:01:11             0.20         394.0   \n",
            "1   559509.0                     0:01:32             0.69        1347.0   \n",
            "2   368907.0                     1:01:05             0.26         477.0   \n",
            "3   368803.0                    16:01:01             0.18         311.0   \n",
            "4   425410.0                     5:01:20             0.70        1138.0   \n",
            "\n",
            "    Revenue  Quantity Sold  Avg. Session Duration (sec)  \n",
            "0   83244.0          482.0                        79271  \n",
            "1  203552.0         2402.0                           92  \n",
            "2   94282.0          599.0                         3665  \n",
            "3   54971.0          415.0                        57661  \n",
            "4  167113.0         1987.0                        18080  \n",
            "\n",
            "Bounce Rate (average): 49.31%\n",
            "Conversion Rate (average): 315.06%\n"
          ]
        }
      ]
    },
    {
      "cell_type": "code",
      "source": [
        "##NEW STEP: Drop all rows with any null values\n",
        "df.dropna(inplace=True)"
      ],
      "metadata": {
        "id": "oCFU8I4poY2g"
      },
      "execution_count": 6,
      "outputs": []
    },
    {
      "cell_type": "code",
      "source": [
        "# 5. Save cleaned data\n",
        "df.to_csv(\"Cleaned_Web_Analytic_Dataset.csv\", index=False)"
      ],
      "metadata": {
        "id": "6qsmslqLoeUq"
      },
      "execution_count": 7,
      "outputs": []
    }
  ]
}